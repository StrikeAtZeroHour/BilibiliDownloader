{
  "nbformat": 4,
  "nbformat_minor": 0,
  "metadata": {
    "colab": {
      "provenance": [],
      "authorship_tag": "ABX9TyN5/0ur3xhUZu+web32GWyL",
      "include_colab_link": true
    },
    "kernelspec": {
      "name": "python3",
      "display_name": "Python 3"
    },
    "language_info": {
      "name": "python"
    }
  },
  "cells": [
    {
      "cell_type": "markdown",
      "metadata": {
        "id": "view-in-github",
        "colab_type": "text"
      },
      "source": [
        "<a href=\"https://colab.research.google.com/github/StrikeAtZeroHour/BilibiliDownloader/blob/main/New%20Summary.ipynb\" target=\"_parent\"><img src=\"https://colab.research.google.com/assets/colab-badge.svg\" alt=\"Open In Colab\"/></a>"
      ]
    },
    {
      "cell_type": "code",
      "source": [
        "# importing libraries\n",
        "import nltk\n",
        "nltk.download('punkt_tab')\n",
        "nltk.download('stopwords')\n",
        "from nltk.corpus import stopwords\n",
        "from nltk.tokenize import word_tokenize, sent_tokenize"
      ],
      "metadata": {
        "id": "KWIZyivogp8S"
      },
      "execution_count": null,
      "outputs": []
    },
    {
      "cell_type": "code",
      "source": [
        "# Input text - to summarize\n",
        "text = \"\"\"Ad sales boost Time Warner profit\n",
        "\n",
        "Quarterly profits at US media giant TimeWarner jumped 76% to $1.13bn (£600m) for the three months to December, from $639m year-earlier.\n",
        "\n",
        "The firm, which is now one of the biggest investors in Google, benefited from sales of high-speed internet connections and higher advert sales. TimeWarner said fourth quarter sales rose 2% to $11.1bn from $10.9bn. Its profits were buoyed by one-off gains which offset a profit dip at Warner Bros, and less users for AOL.\n",
        "\n",
        "Time Warner said on Friday that it now owns 8% of search-engine Google. But its own internet business, AOL, had has mixed fortunes. It lost 464,000 subscribers in the fourth quarter profits were lower than in the preceding three quarters. However, the company said AOL's underlying profit before exceptional items rose 8% on the back of stronger internet advertising revenues. It hopes to increase subscribers by offering the online service free to TimeWarner internet customers and will try to sign up AOL's existing customers for high-speed broadband. TimeWarner also has to restate 2000 and 2003 results following a probe by the US Securities Exchange Commission (SEC), which is close to concluding.\n",
        "\n",
        "Time Warner's fourth quarter profits were slightly better than analysts' expectations. But its film division saw profits slump 27% to $284m, helped by box-office flops Alexander and Catwoman, a sharp contrast to year-earlier, when the third and final film in the Lord of the Rings trilogy boosted results. For the full-year, TimeWarner posted a profit of $3.36bn, up 27% from its 2003 performance, while revenues grew 6.4% to $42.09bn. \"Our financial performance was strong, meeting or exceeding all of our full-year objectives and greatly enhancing our flexibility,\" chairman and chief executive Richard Parsons said. For 2005, TimeWarner is projecting operating earnings growth of around 5%, and also expects higher revenue and wider profit margins.\n",
        "\n",
        "TimeWarner is to restate its accounts as part of efforts to resolve an inquiry into AOL by US market regulators. It has already offered to pay $300m to settle charges, in a deal that is under review by the SEC. The company said it was unable to estimate the amount it needed to set aside for legal reserves, which it previously set at $500m. It intends to adjust the way it accounts for a deal with German music publisher Bertelsmann's purchase of a stake in AOL Europe, which it had reported as advertising revenue. It will now book the sale of its stake in AOL Europe as a loss on the value of that stake.\n",
        "\"\"\"\n",
        "\n",
        "# Tokenizing the text\n",
        "stopWords = set(stopwords.words(\"english\"))\n",
        "words = word_tokenize(text)\n",
        "print(words)"
      ],
      "metadata": {
        "colab": {
          "base_uri": "https://localhost:8080/"
        },
        "id": "olB1AKWUjbQh",
        "outputId": "fd6343ad-314c-4f3e-8e5d-c2a599eefbcc"
      },
      "execution_count": 22,
      "outputs": [
        {
          "output_type": "stream",
          "name": "stdout",
          "text": [
            "['Ad', 'sales', 'boost', 'Time', 'Warner', 'profit', 'Quarterly', 'profits', 'at', 'US', 'media', 'giant', 'TimeWarner', 'jumped', '76', '%', 'to', '$', '1.13bn', '(', '£600m', ')', 'for', 'the', 'three', 'months', 'to', 'December', ',', 'from', '$', '639m', 'year-earlier', '.', 'The', 'firm', ',', 'which', 'is', 'now', 'one', 'of', 'the', 'biggest', 'investors', 'in', 'Google', ',', 'benefited', 'from', 'sales', 'of', 'high-speed', 'internet', 'connections', 'and', 'higher', 'advert', 'sales', '.', 'TimeWarner', 'said', 'fourth', 'quarter', 'sales', 'rose', '2', '%', 'to', '$', '11.1bn', 'from', '$', '10.9bn', '.', 'Its', 'profits', 'were', 'buoyed', 'by', 'one-off', 'gains', 'which', 'offset', 'a', 'profit', 'dip', 'at', 'Warner', 'Bros', ',', 'and', 'less', 'users', 'for', 'AOL', '.', 'Time', 'Warner', 'said', 'on', 'Friday', 'that', 'it', 'now', 'owns', '8', '%', 'of', 'search-engine', 'Google', '.', 'But', 'its', 'own', 'internet', 'business', ',', 'AOL', ',', 'had', 'has', 'mixed', 'fortunes', '.', 'It', 'lost', '464,000', 'subscribers', 'in', 'the', 'fourth', 'quarter', 'profits', 'were', 'lower', 'than', 'in', 'the', 'preceding', 'three', 'quarters', '.', 'However', ',', 'the', 'company', 'said', 'AOL', \"'s\", 'underlying', 'profit', 'before', 'exceptional', 'items', 'rose', '8', '%', 'on', 'the', 'back', 'of', 'stronger', 'internet', 'advertising', 'revenues', '.', 'It', 'hopes', 'to', 'increase', 'subscribers', 'by', 'offering', 'the', 'online', 'service', 'free', 'to', 'TimeWarner', 'internet', 'customers', 'and', 'will', 'try', 'to', 'sign', 'up', 'AOL', \"'s\", 'existing', 'customers', 'for', 'high-speed', 'broadband', '.', 'TimeWarner', 'also', 'has', 'to', 'restate', '2000', 'and', '2003', 'results', 'following', 'a', 'probe', 'by', 'the', 'US', 'Securities', 'Exchange', 'Commission', '(', 'SEC', ')', ',', 'which', 'is', 'close', 'to', 'concluding', '.', 'Time', 'Warner', \"'s\", 'fourth', 'quarter', 'profits', 'were', 'slightly', 'better', 'than', 'analysts', \"'\", 'expectations', '.', 'But', 'its', 'film', 'division', 'saw', 'profits', 'slump', '27', '%', 'to', '$', '284m', ',', 'helped', 'by', 'box-office', 'flops', 'Alexander', 'and', 'Catwoman', ',', 'a', 'sharp', 'contrast', 'to', 'year-earlier', ',', 'when', 'the', 'third', 'and', 'final', 'film', 'in', 'the', 'Lord', 'of', 'the', 'Rings', 'trilogy', 'boosted', 'results', '.', 'For', 'the', 'full-year', ',', 'TimeWarner', 'posted', 'a', 'profit', 'of', '$', '3.36bn', ',', 'up', '27', '%', 'from', 'its', '2003', 'performance', ',', 'while', 'revenues', 'grew', '6.4', '%', 'to', '$', '42.09bn', '.', '``', 'Our', 'financial', 'performance', 'was', 'strong', ',', 'meeting', 'or', 'exceeding', 'all', 'of', 'our', 'full-year', 'objectives', 'and', 'greatly', 'enhancing', 'our', 'flexibility', ',', \"''\", 'chairman', 'and', 'chief', 'executive', 'Richard', 'Parsons', 'said', '.', 'For', '2005', ',', 'TimeWarner', 'is', 'projecting', 'operating', 'earnings', 'growth', 'of', 'around', '5', '%', ',', 'and', 'also', 'expects', 'higher', 'revenue', 'and', 'wider', 'profit', 'margins', '.', 'TimeWarner', 'is', 'to', 'restate', 'its', 'accounts', 'as', 'part', 'of', 'efforts', 'to', 'resolve', 'an', 'inquiry', 'into', 'AOL', 'by', 'US', 'market', 'regulators', '.', 'It', 'has', 'already', 'offered', 'to', 'pay', '$', '300m', 'to', 'settle', 'charges', ',', 'in', 'a', 'deal', 'that', 'is', 'under', 'review', 'by', 'the', 'SEC', '.', 'The', 'company', 'said', 'it', 'was', 'unable', 'to', 'estimate', 'the', 'amount', 'it', 'needed', 'to', 'set', 'aside', 'for', 'legal', 'reserves', ',', 'which', 'it', 'previously', 'set', 'at', '$', '500m', '.', 'It', 'intends', 'to', 'adjust', 'the', 'way', 'it', 'accounts', 'for', 'a', 'deal', 'with', 'German', 'music', 'publisher', 'Bertelsmann', \"'s\", 'purchase', 'of', 'a', 'stake', 'in', 'AOL', 'Europe', ',', 'which', 'it', 'had', 'reported', 'as', 'advertising', 'revenue', '.', 'It', 'will', 'now', 'book', 'the', 'sale', 'of', 'its', 'stake', 'in', 'AOL', 'Europe', 'as', 'a', 'loss', 'on', 'the', 'value', 'of', 'that', 'stake', '.']\n"
          ]
        }
      ]
    },
    {
      "cell_type": "code",
      "execution_count": 26,
      "metadata": {
        "colab": {
          "base_uri": "https://localhost:8080/"
        },
        "id": "wns7T2YZfxWT",
        "outputId": "b10f6e57-843d-4c8c-ac22-36eb031de07a"
      },
      "outputs": [
        {
          "output_type": "stream",
          "name": "stdout",
          "text": [
            " Ad sales boost Time Warner profit\n",
            "\n",
            "Quarterly profits at US media giant TimeWarner jumped 76% to $1.13bn (£600m) for the three months to December, from $639m year-earlier. However, the company said AOL's underlying profit before exceptional items rose 8% on the back of stronger internet advertising revenues. But its film division saw profits slump 27% to $284m, helped by box-office flops Alexander and Catwoman, a sharp contrast to year-earlier, when the third and final film in the Lord of the Rings trilogy boosted results. For the full-year, TimeWarner posted a profit of $3.36bn, up 27% from its 2003 performance, while revenues grew 6.4% to $42.09bn.\n",
            "from:  490  to:  130\n"
          ]
        }
      ],
      "source": [
        "\n",
        "# Creating a frequency table to keep the\n",
        "# score of each word\n",
        "\n",
        "freqTable = dict()\n",
        "for word in words:\n",
        "    word = word.lower()\n",
        "    if word in stopWords:\n",
        "        continue\n",
        "    if word in freqTable:\n",
        "        freqTable[word] += 1\n",
        "    else:\n",
        "        freqTable[word] = 1\n",
        "\n",
        "# Creating a dictionary to keep the score\n",
        "# of each sentence\n",
        "sentences = sent_tokenize(text)\n",
        "sentenceValue = dict()\n",
        "\n",
        "for sentence in sentences:\n",
        "    for word, freq in freqTable.items():\n",
        "        if word in sentence.lower():\n",
        "            if sentence in sentenceValue:\n",
        "                sentenceValue[sentence] += freq\n",
        "            else:\n",
        "                sentenceValue[sentence] = freq\n",
        "\n",
        "\n",
        "\n",
        "sumValues = 0\n",
        "for sentence in sentenceValue:\n",
        "    sumValues += sentenceValue[sentence]\n",
        "\n",
        "# Average value of a sentence from the original text\n",
        "\n",
        "average = int(sumValues / len(sentenceValue))\n",
        "\n",
        "# Storing sentences into our summary.\n",
        "summary = ''\n",
        "for sentence in sentences:\n",
        "    if (sentence in sentenceValue) and (sentenceValue[sentence] > (1.2 * average)):\n",
        "        summary += \" \" + sentence\n",
        "print(summary)\n",
        "print(\"from: \",len(word_tokenize(text)),\" to: \",len(word_tokenize(summary)))"
      ]
    }
  ]
}